{
 "cells": [
  {
   "cell_type": "code",
   "execution_count": null,
   "metadata": {
    "pycharm": {
     "name": "#%%\n"
    }
   },
   "outputs": [],
   "source": [
    "import os\n",
    "projs=['assertj-core',\n",
    "       'carbon-apimgt',\n",
    "       'commons-exec',\n",
    "       'db-scheduler',\n",
    "       'delight-nashorn-sandbox',\n",
    "       'elastic-job-lite',\n",
    "       'esper',\n",
    "       'excelastic',\n",
    "       'fastjson',\n",
    "       'fluent-logger-java',\n",
    "       'handlebars.java',\n",
    "       'hector',\n",
    "       'http-request',\n",
    "       'httpcore',\n",
    "       'hutool',\n",
    "       'incubator-dubbo',\n",
    "       'java-websocket',\n",
    "       'logback',\n",
    "       'luwak',\n",
    "       'ninja',\n",
    "       'noxy',\n",
    "       'orbit',\n",
    "       'oryx',\n",
    "       'riptide',\n",
    "       'rxjava2-extras',\n",
    "       'spring-boot',\n",
    "       'timely',\n",
    "       'wro4j',\n",
    "       'yawp',\n",
    "       'zxing']\n",
    "\n",
    "temp=[\n",
    "    'assertj-core_dot',\n",
    "    'carbon-apimgt_analyzer-modules.org.wso2.carbon.apimgt.throttling.siddhi.extension',\n",
    "    'commons-exec_dot',\n",
    "    'db-scheduler_dot',\n",
    "    'delight-nashorn-sandbox_dot',\n",
    "    'elastic-job-lite_dot',\n",
    "    'esper_examples.rfidassetzone',\n",
    "    'excelastic_dot',\n",
    "    'fastjson_dot',\n",
    "    'fluent-logger-java_dot',\n",
    "    'handlebars.java_dot',\n",
    "    'hector_dot',\n",
    "    'http-request_dot',\n",
    "    'httpcore_dot',\n",
    "    'hutool_hutool-cron',\n",
    "    'incubator-dubbo_dot',\n",
    "    'java-websocket_dot',\n",
    "    'logback_dot',\n",
    "    'luwak_luwak',\n",
    "    'ninja_dot',\n",
    "    'noxy_noxy-discovery-zookeeper',\n",
    "    'orbit_dot',\n",
    "    'oryx_framework.oryx-common',\n",
    "    'riptide_riptide-failsafe',\n",
    "    'rxjava2-extras_dot',\n",
    "    'spring-boot_dot',\n",
    "    'timely_server',\n",
    "    'wro4j_dot',\n",
    "    'yawp_yawp-testing.yawp-testing-appengine',\n",
    "    'zxing_dot'\n",
    "    ]\n",
    "\n",
    "arr = list(range(1,31))\n",
    "for i in arr:\n",
    "    dirpath = 'csvs-'+str(i)+'/'\n",
    "    # for j in range(len(projs)):\n",
    "    #     os.rename(dirpath+projs[j]+'.csv', dirpath+temp[j]+'.csv')\n",
    "    os.remove(dirpath+'ambari_dot.csv')"
   ]
  }
 ],
 "metadata": {
  "kernelspec": {
   "display_name": "base",
   "language": "python",
   "name": "python3"
  },
  "language_info": {
   "codemirror_mode": {
    "name": "ipython",
    "version": 3
   },
   "file_extension": ".py",
   "mimetype": "text/x-python",
   "name": "python",
   "nbconvert_exporter": "python",
   "pygments_lexer": "ipython3",
   "version": "3.9.7"
  },
  "orig_nbformat": 4
 },
 "nbformat": 4,
 "nbformat_minor": 2
}