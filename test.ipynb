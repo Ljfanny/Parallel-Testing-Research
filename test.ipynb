{
 "cells": [
  {
   "cell_type": "code",
   "execution_count": 5,
   "metadata": {
    "pycharm": {
     "name": "#%%\n"
    }
   },
   "outputs": [],
   "source": [
    "import os\n",
    "projs=[\n",
    "    'activiti_dot',\n",
    "    'assertj-core_dot',\n",
    "    'carbon-apimgt_analyzer-modules.org.wso2.carbon.apimgt.throttling.siddhi.extension',\n",
    "    'commons-exec_dot',\n",
    "    'db-scheduler_dot',\n",
    "    'delight-nashorn-sandbox_dot',\n",
    "    'elastic-job-lite_dot',\n",
    "    'elastic-job-lite_elastic-job-lite-core',\n",
    "    'esper_examples.rfidassetzone',\n",
    "    'fastjson_dot',\n",
    "    'fluent-logger-java_dot',\n",
    "    'handlebars.java_dot',\n",
    "    'hbase_dot',\n",
    "    'http-request_dot',\n",
    "    'httpcore_dot',\n",
    "    'hutool_hutool-cron',\n",
    "    'incubator-dubbo_dubbo-remoting.dubbo-remoting-netty',\n",
    "    'incubator-dubbo_dubbo-rpc.dubbo-rpc-dubbo',\n",
    "    'logback_dot',\n",
    "    'luwak_luwak',\n",
    "    'ninja_dot',\n",
    "    'noxy_noxy-discovery-zookeeper',\n",
    "    'okhttp_dot',\n",
    "    'orbit_dot',\n",
    "    'retrofit_retrofit-adapters.rxjava',\n",
    "    'retrofit_retrofit',\n",
    "    'rxjava2-extras_dot',\n",
    "    'spring-boot_dot',\n",
    "    'timely_server',\n",
    "    'wro4j_wro4j-extensions',\n",
    "    'yawp_yawp-testing.yawp-testing-appengine',\n",
    "    'zxing_dot'\n",
    "]\n",
    "fr_path = 'failure_rate_unmatched_tests/'\n",
    "cond_path = 'test_distribution_cond/'\n",
    "for proj in projs:\n",
    "    fr_filenames = os.listdir(fr_path + proj)\n",
    "    cond_filenames = os.listdir(cond_path + proj)\n",
    "    for f in fr_filenames:\n",
    "        if f.find('seq') != -1 or f.find('para') != -1:\n",
    "            os.remove(fr_path + proj + '/' + f)\n",
    "    for f in cond_filenames:\n",
    "        if f.find('seq') != -1 or f.find('para') != -1:\n",
    "            os.remove(cond_path + proj + '/' + f)"
   ]
  }
 ],
 "metadata": {
  "kernelspec": {
   "display_name": "base",
   "language": "python",
   "name": "python3"
  },
  "language_info": {
   "codemirror_mode": {
    "name": "ipython",
    "version": 3
   },
   "file_extension": ".py",
   "mimetype": "text/x-python",
   "name": "python",
   "nbconvert_exporter": "python",
   "pygments_lexer": "ipython3",
   "version": "3.9.7"
  },
  "orig_nbformat": 4
 },
 "nbformat": 4,
 "nbformat_minor": 2
}